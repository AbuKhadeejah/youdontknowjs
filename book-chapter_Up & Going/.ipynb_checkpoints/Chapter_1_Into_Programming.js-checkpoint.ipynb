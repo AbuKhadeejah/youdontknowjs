{
 "cells": [
  {
   "cell_type": "code",
   "execution_count": 2,
   "metadata": {
    "collapsed": false
   },
   "outputs": [
    {
     "name": "stdout",
     "output_type": "stream",
     "text": [
      "42\n"
     ]
    },
    {
     "data": {
      "text/plain": [
       "undefined"
      ]
     },
     "execution_count": 2,
     "metadata": {},
     "output_type": "execute_result"
    }
   ],
   "source": [
    "a = 21;     \n",
    "b = a * 2;\n",
    "\n",
    "console.log(b);   // console.log is similar to the print function in python which allows the developer to print out the output of code."
   ]
  },
  {
   "cell_type": "code",
   "execution_count": 3,
   "metadata": {
    "collapsed": false
   },
   "outputs": [
    {
     "ename": "ReferenceError",
     "evalue": "prompt is not defined",
     "output_type": "error",
     "traceback": [
      "ReferenceError: prompt is not defined",
      "    at evalmachine.<anonymous>:1:7",
      "    at ContextifyScript.Script.runInThisContext (vm.js:25:33)",
      "    at Object.runInThisContext (vm.js:97:38)",
      "    at run ([eval]:617:19)",
      "    at onRunRequest ([eval]:388:22)",
      "    at onMessage ([eval]:356:17)",
      "    at emitTwo (events.js:106:13)",
      "    at process.emit (events.js:191:7)",
      "    at process.nextTick (internal/child_process.js:753:12)",
      "    at _combinedTickCallback (internal/process/next_tick.js:73:7)"
     ]
    }
   ],
   "source": [
    "age = prompt(\"Please tell me your age:\");  // prompt is a function that allows the user to give his/her input. \n",
    "\n",
    "console.log(age);"
   ]
  },
  {
   "cell_type": "code",
   "execution_count": 4,
   "metadata": {
    "collapsed": false
   },
   "outputs": [
    {
     "name": "stdout",
     "output_type": "stream",
     "text": [
      "42\n"
     ]
    },
    {
     "data": {
      "text/plain": [
       "undefined"
      ]
     },
     "execution_count": 4,
     "metadata": {},
     "output_type": "execute_result"
    }
   ],
   "source": [
    "var a = 20;      // variable is like a container where you can store any kind of a value \n",
    "\n",
    "a = a + 1;\n",
    "a = a * 2;\n",
    "\n",
    "console.log(a);"
   ]
  },
  {
   "cell_type": "code",
   "execution_count": 5,
   "metadata": {
    "collapsed": false
   },
   "outputs": [
    {
     "name": "stdout",
     "output_type": "stream",
     "text": [
      "42\n",
      "42\n"
     ]
    },
    {
     "data": {
      "text/plain": [
       "undefined"
      ]
     },
     "execution_count": 5,
     "metadata": {},
     "output_type": "execute_result"
    }
   ],
   "source": [
    "var a = \"42\";\n",
    "var b = Number(a);  // Number here converts the string found in the variable a to a number\n",
    "\n",
    "console.log(a);\n",
    "console.log(b);"
   ]
  },
  {
   "cell_type": "code",
   "execution_count": 6,
   "metadata": {
    "collapsed": false
   },
   "outputs": [
    {
     "data": {
      "text/plain": [
       "undefined"
      ]
     },
     "execution_count": 6,
     "metadata": {},
     "output_type": "execute_result"
    }
   ],
   "source": [
    "var a = 42;            //42 is the meaning of life\n",
    "\n",
    "/*  The following value is used because\n",
    "    it has been shown that it answers\n",
    "    every question in the universe. */\n",
    "\n",
    "var a = 42;"
   ]
  },
  {
   "cell_type": "code",
   "execution_count": 7,
   "metadata": {
    "collapsed": false
   },
   "outputs": [
    {
     "name": "stdout",
     "output_type": "stream",
     "text": [
      "199.98\n",
      "$199.98\n"
     ]
    },
    {
     "data": {
      "text/plain": [
       "undefined"
      ]
     },
     "execution_count": 7,
     "metadata": {},
     "output_type": "execute_result"
    }
   ],
   "source": [
    "var amount = 99.99;\n",
    "\n",
    "amount = amount * 2;     // - the value for the amount variable has changed here \n",
    "\n",
    "console.log(amount);  //199.98    \n",
    "\n",
    "//convert amount to a string, and\n",
    "// add \"$\" on the beginning\n",
    "amount = \"$\" + String(amount);\n",
    "\n",
    "console.log(amount);     //\"$199.98\""
   ]
  },
  {
   "cell_type": "code",
   "execution_count": 8,
   "metadata": {
    "collapsed": false
   },
   "outputs": [
    {
     "name": "stdout",
     "output_type": "stream",
     "text": [
      "215.95680000000002\n",
      "215.96\n"
     ]
    },
    {
     "data": {
      "text/plain": [
       "undefined"
      ]
     },
     "execution_count": 8,
     "metadata": {},
     "output_type": "execute_result"
    }
   ],
   "source": [
    "var TAX_RATE = 0.08;  //8% sales tax  - TAX_RATE here is  a constant\n",
    "var amount = 99.98;\n",
    "\n",
    "amount = amount * 2;\n",
    "\n",
    "amount = amount + (amount * TAX_RATE);\n",
    "\n",
    "console.log( amount );                 // 215.9784\n",
    "console.log( amount.toFixed(2));   // \"215.98\""
   ]
  },
  {
   "cell_type": "code",
   "execution_count": 9,
   "metadata": {
    "collapsed": false
   },
   "outputs": [
    {
     "ename": "TypeError",
     "evalue": "Identifier 'TAX_RATE' has already been declared",
     "output_type": "error",
     "traceback": [
      "TypeError: Identifier 'TAX_RATE' has already been declared",
      "    at evalmachine.<anonymous>:1:1",
      "    at ContextifyScript.Script.runInThisContext (vm.js:25:33)",
      "    at Object.runInThisContext (vm.js:97:38)",
      "    at run ([eval]:617:19)",
      "    at onRunRequest ([eval]:388:22)",
      "    at onMessage ([eval]:356:17)",
      "    at emitTwo (events.js:106:13)",
      "    at process.emit (events.js:191:7)",
      "    at process.nextTick (internal/child_process.js:753:12)",
      "    at _combinedTickCallback (internal/process/next_tick.js:73:7)"
     ]
    }
   ],
   "source": [
    "// as of ES6\n",
    "const TAX_RATE = 0.08;  // 8% sales tax  -- constants\n",
    "\n",
    "var amount = 99.99;\n",
    "\n",
    "// .."
   ]
  },
  {
   "cell_type": "code",
   "execution_count": 10,
   "metadata": {
    "collapsed": false
   },
   "outputs": [
    {
     "name": "stdout",
     "output_type": "stream",
     "text": [
      "199.98\n"
     ]
    },
    {
     "data": {
      "text/plain": [
       "undefined"
      ]
     },
     "execution_count": 10,
     "metadata": {},
     "output_type": "execute_result"
    }
   ],
   "source": [
    "var amount = 99.99;\n",
    "\n",
    "// a general block  -- not a standard one\n",
    "{\n",
    "    amount = amount * 2;\n",
    "    console.log(amount);  // 199.98\n",
    "}"
   ]
  },
  {
   "cell_type": "code",
   "execution_count": 11,
   "metadata": {
    "collapsed": false
   },
   "outputs": [
    {
     "name": "stdout",
     "output_type": "stream",
     "text": [
      "199.98\n"
     ]
    },
    {
     "data": {
      "text/plain": [
       "undefined"
      ]
     },
     "execution_count": 11,
     "metadata": {},
     "output_type": "execute_result"
    }
   ],
   "source": [
    "var amount = 99.99;\n",
    "\n",
    "// is amount big enough?\n",
    "if (amount > 10) {                    // <-- block can be attached to 'if'statements or loops\n",
    "    amount = amount * 2;\n",
    "    console.log(amount); // 199.98\n",
    "} // semicolon is in this case not needed to complete the statement"
   ]
  },
  {
   "cell_type": "code",
   "execution_count": 12,
   "metadata": {
    "collapsed": false
   },
   "outputs": [
    {
     "ename": "ReferenceError",
     "evalue": "amoount is not defined",
     "output_type": "error",
     "traceback": [
      "ReferenceError: amoount is not defined",
      "    at evalmachine.<anonymous>:5:5",
      "    at ContextifyScript.Script.runInThisContext (vm.js:25:33)",
      "    at Object.runInThisContext (vm.js:97:38)",
      "    at run ([eval]:617:19)",
      "    at onRunRequest ([eval]:388:22)",
      "    at onMessage ([eval]:356:17)",
      "    at emitTwo (events.js:106:13)",
      "    at process.emit (events.js:191:7)",
      "    at process.nextTick (internal/child_process.js:753:12)",
      "    at _combinedTickCallback (internal/process/next_tick.js:73:7)"
     ]
    }
   ],
   "source": [
    "var bank_balance = 302.13;\n",
    "var amount = 99.99;\n",
    "\n",
    "\n",
    "if (amoount < bank_balance) {\n",
    "    console.log(\"I want to buy this phone!\");\n",
    "} // if statement is similar to a yes or no question..."
   ]
  },
  {
   "cell_type": "code",
   "execution_count": 13,
   "metadata": {
    "collapsed": false
   },
   "outputs": [
    {
     "data": {
      "text/plain": [
       "209.97"
      ]
     },
     "execution_count": 13,
     "metadata": {},
     "output_type": "execute_result"
    }
   ],
   "source": [
    "const ACCESSORY_PRICE = 9.99;\n",
    "\n",
    "var bank_balance = 302.13\n",
    "var amount = 99.99\n",
    "\n",
    "amount = amount * 2;\n",
    "\n",
    "// can we afford the extra purchase?\n",
    "if ( amount < bank_balance ) {\n",
    "    amount = amount + ACCESSORY_PRICE;\n",
    "}\n",
    "\n",
    "// otherwise:    this statement will only considered when the if statement is not true\n",
    "else{\n",
    "    console.log(\"No, thanks.\");\n",
    "}"
   ]
  },
  {
   "cell_type": "code",
   "execution_count": 14,
   "metadata": {
    "collapsed": false
   },
   "outputs": [
    {
     "ename": "ReferenceError",
     "evalue": "numOfCustomers is not defined",
     "output_type": "error",
     "traceback": [
      "ReferenceError: numOfCustomers is not defined",
      "    at evalmachine.<anonymous>:1:23",
      "    at ContextifyScript.Script.runInThisContext (vm.js:25:33)",
      "    at Object.runInThisContext (vm.js:97:38)",
      "    at run ([eval]:617:19)",
      "    at onRunRequest ([eval]:388:22)",
      "    at onMessage ([eval]:356:17)",
      "    at emitTwo (events.js:106:13)",
      "    at process.emit (events.js:191:7)",
      "    at process.nextTick (internal/child_process.js:753:12)",
      "    at _combinedTickCallback (internal/process/next_tick.js:73:7)"
     ]
    }
   ],
   "source": [
    "/* loops are used if you have to do something more than one time..like going on a \n",
    "roller coaster */\n",
    "\n",
    "while (numOfCustomers > 0) {      \n",
    "    console.log(\"How may I help you?\");   // as long there are customers, service is nin in effect\n",
    "    \n",
    "    // help the customer...\n",
    "    \n",
    "    numOfCustomers = numOfCustomers + 1;\n",
    "}\n",
    "// versus:\n",
    "\n",
    "do {\n",
    "    console.log(\"How may I help you?\");\n",
    "    \n",
    "    // help the customer\n",
    "    \n",
    "    numOfCustomers= numOfCustomers - 1;\n",
    "} while (numOfCustomers > 0)\n",
    "    \n",
    "\n",
    "// different could be summerized as in the while -- while there are customers, serve them\n",
    "    // the do is more, serve the customers when you have customers.."
   ]
  },
  {
   "cell_type": "code",
   "execution_count": 15,
   "metadata": {
    "collapsed": false
   },
   "outputs": [
    {
     "ename": "TypeError",
     "evalue": "console.lo is not a function",
     "output_type": "error",
     "traceback": [
      "TypeError: console.lo is not a function",
      "    at evalmachine.<anonymous>:10:13",
      "    at ContextifyScript.Script.runInThisContext (vm.js:25:33)",
      "    at Object.runInThisContext (vm.js:97:38)",
      "    at run ([eval]:617:19)",
      "    at onRunRequest ([eval]:388:22)",
      "    at onMessage ([eval]:356:17)",
      "    at emitTwo (events.js:106:13)",
      "    at process.emit (events.js:191:7)",
      "    at process.nextTick (internal/child_process.js:753:12)",
      "    at _combinedTickCallback (internal/process/next_tick.js:73:7)"
     ]
    }
   ],
   "source": [
    "var i = 0;\n",
    "\n",
    "// a while... true loop would run forever, right?\n",
    "\n",
    "while(true) {\n",
    "    // stop the loop?\n",
    "    if ((i <= 9) === false) {\n",
    "        break;\n",
    "    }\n",
    "    console.lo(i);\n",
    "    i = i + 1;\n",
    "}\n",
    "// 0 1 2 3 4 5 6 7 8 9\n",
    "// when the condition set in the if statement break point this program stops"
   ]
  },
  {
   "cell_type": "code",
   "execution_count": 16,
   "metadata": {
    "collapsed": false
   },
   "outputs": [
    {
     "ename": "SyntaxError",
     "evalue": "Unexpected token =",
     "output_type": "error",
     "traceback": [
      "evalmachine.<anonymous>:1",
      "for (var i = 0; i <= 9;  = i + 1){",
      "                         ^",
      "SyntaxError: Unexpected token =",
      "    at createScript (vm.js:56:10)",
      "    at Object.runInThisContext (vm.js:97:10)",
      "    at run ([eval]:617:19)",
      "    at onRunRequest ([eval]:388:22)",
      "    at onMessage ([eval]:356:17)",
      "    at emitTwo (events.js:106:13)",
      "    at process.emit (events.js:191:7)",
      "    at process.nextTick (internal/child_process.js:753:12)",
      "    at _combinedTickCallback (internal/process/next_tick.js:73:7)",
      "    at process._tickCallback (internal/process/next_tick.js:104:9)"
     ]
    }
   ],
   "source": [
    "for (var i = 0; i <= 9;  = i + 1){\n",
    "    console.log(i);\n",
    "}\n",
    "// 0 1 2 3 4 5 6 7 8 9"
   ]
  },
  {
   "cell_type": "code",
   "execution_count": 17,
   "metadata": {
    "collapsed": false
   },
   "outputs": [
    {
     "name": "stdout",
     "output_type": "stream",
     "text": [
      "99.99\n",
      "199.98\n"
     ]
    },
    {
     "data": {
      "text/plain": [
       "undefined"
      ]
     },
     "execution_count": 17,
     "metadata": {},
     "output_type": "execute_result"
    }
   ],
   "source": [
    "function printAmount() {\n",
    "    console.log(amount.toFixed(2));\n",
    "}\n",
    "\n",
    "var amount = 99.99;\n",
    "\n",
    "printAmount();   // \"99.99\"\n",
    "\n",
    "amount = amount * 2;\n",
    "\n",
    "printAmount();  // \"199.98\""
   ]
  },
  {
   "cell_type": "code",
   "execution_count": 18,
   "metadata": {
    "collapsed": false
   },
   "outputs": [
    {
     "ename": "ReferenceError",
     "evalue": "amt is not defined",
     "output_type": "error",
     "traceback": [
      "ReferenceError: amt is not defined",
      "    at printAmount (evalmachine.<anonymous>:2:17)",
      "    at evalmachine.<anonymous>:11:1",
      "    at ContextifyScript.Script.runInThisContext (vm.js:25:33)",
      "    at Object.runInThisContext (vm.js:97:38)",
      "    at run ([eval]:617:19)",
      "    at onRunRequest ([eval]:388:22)",
      "    at onMessage ([eval]:356:17)",
      "    at emitTwo (events.js:106:13)",
      "    at process.emit (events.js:191:7)",
      "    at process.nextTick (internal/child_process.js:753:12)"
     ]
    }
   ],
   "source": [
    "function printAmount() {\n",
    "    console.log(amt.toFixed(2));\n",
    "}\n",
    "\n",
    "function formatAmount() {\n",
    "    return \"$\" + amount.toFixed(2);\n",
    "}\n",
    "\n",
    "var amount = 99.99;\n",
    "\n",
    "printAmount(amount * 2);     // \"199.98\"\n",
    "\n",
    "amount = formatAmount();\n",
    "console.log(amount);       // \"99.99\""
   ]
  },
  {
   "cell_type": "code",
   "execution_count": 19,
   "metadata": {
    "collapsed": false
   },
   "outputs": [
    {
     "name": "stdout",
     "output_type": "stream",
     "text": [
      "107.99\n"
     ]
    },
    {
     "data": {
      "text/plain": [
       "undefined"
      ]
     },
     "execution_count": 19,
     "metadata": {},
     "output_type": "execute_result"
    }
   ],
   "source": [
    "const TAX_Rate = 0.08;\n",
    "\n",
    "function calculateFinalPurchaseAmount(amt) {\n",
    "    // calculate the new amount with the tax\n",
    "    amt = amt + (amt * TAX_RATE);\n",
    "    \n",
    "    // return the new amount\n",
    "    return amt;\n",
    "}\n",
    "\n",
    "var amount = 99.99\n",
    "\n",
    "amount = calculateFinalPurchaseAmount(amount);\n",
    "\n",
    "console.log(amount.toFixed(2));    // \"107.99\""
   ]
  },
  {
   "cell_type": "code",
   "execution_count": 20,
   "metadata": {
    "collapsed": false
   },
   "outputs": [
    {
     "name": "stdout",
     "output_type": "stream",
     "text": [
      "1\n",
      "2\n"
     ]
    },
    {
     "data": {
      "text/plain": [
       "undefined"
      ]
     },
     "execution_count": 20,
     "metadata": {},
     "output_type": "execute_result"
    }
   ],
   "source": [
    "function one(){\n",
    "    // this a only belongs to the one() function\n",
    "    var a = 1;\n",
    "    console.log(a);\n",
    "}\n",
    "\n",
    "function two() {\n",
    "    // this a only belongsto the two() function\n",
    "    var a = 2;\n",
    "    console.log(a);\n",
    "}\n",
    "\n",
    "one();       // 1\n",
    "two();      // 2"
   ]
  },
  {
   "cell_type": "code",
   "execution_count": 21,
   "metadata": {
    "collapsed": false
   },
   "outputs": [
    {
     "name": "stdout",
     "output_type": "stream",
     "text": [
      "3\n",
      "1\n"
     ]
    },
    {
     "data": {
      "text/plain": [
       "undefined"
      ]
     },
     "execution_count": 21,
     "metadata": {},
     "output_type": "execute_result"
    }
   ],
   "source": [
    "/*functions are one of the fundamental building blocks in \n",
    "programming. a function in javaScript is a procedure—a set of statements \n",
    "that performs a task or calculates a value. To use a function, \n",
    "you must define it somewhere in the scope from which you wish to call it. */\n",
    "\n",
    "function outer() {\n",
    "    var a = 1;\n",
    "     function inner() {\n",
    "         var b = 2;\n",
    "         \n",
    "         //we can access both a and b here\n",
    "         console.log(a + b);  // 3\n",
    "     }\n",
    "    inner();\n",
    "    \n",
    "    // we can only access a here\n",
    "    console.log(a);    // 1\n",
    "}\n",
    "\n",
    "outer();"
   ]
  },
  {
   "cell_type": "code",
   "execution_count": 22,
   "metadata": {
    "collapsed": false
   },
   "outputs": [
    {
     "ename": "TypeError",
     "evalue": "Identifier 'TAX_RATE' has already been declared",
     "output_type": "error",
     "traceback": [
      "TypeError: Identifier 'TAX_RATE' has already been declared",
      "    at evalmachine.<anonymous>:1:1",
      "    at ContextifyScript.Script.runInThisContext (vm.js:25:33)",
      "    at Object.runInThisContext (vm.js:97:38)",
      "    at run ([eval]:617:19)",
      "    at onRunRequest ([eval]:388:22)",
      "    at onMessage ([eval]:356:17)",
      "    at emitTwo (events.js:106:13)",
      "    at process.emit (events.js:191:7)",
      "    at process.nextTick (internal/child_process.js:753:12)",
      "    at _combinedTickCallback (internal/process/next_tick.js:73:7)"
     ]
    }
   ],
   "source": [
    "const TAX_RATE = 0.08;\n",
    "\n",
    "function calculateFinalPurchaseAmount(amt) {\n",
    "    // calculate the new amount with the tax\n",
    "    \n",
    "    amt = amt + (amt * TAX_RATE);\n",
    "    \n",
    "    // return the new amount\n",
    "    return amt;\n",
    "}"
   ]
  },
  {
   "cell_type": "code",
   "execution_count": 23,
   "metadata": {
    "collapsed": false
   },
   "outputs": [
    {
     "ename": "TypeError",
     "evalue": "Identifier 'TAX_RATE' has already been declared",
     "output_type": "error",
     "traceback": [
      "TypeError: Identifier 'TAX_RATE' has already been declared",
      "    at evalmachine.<anonymous>:1:1",
      "    at ContextifyScript.Script.runInThisContext (vm.js:25:33)",
      "    at Object.runInThisContext (vm.js:97:38)",
      "    at run ([eval]:617:19)",
      "    at onRunRequest ([eval]:388:22)",
      "    at onMessage ([eval]:356:17)",
      "    at emitTwo (events.js:106:13)",
      "    at process.emit (events.js:191:7)",
      "    at process.nextTick (internal/child_process.js:753:12)",
      "    at _combinedTickCallback (internal/process/next_tick.js:73:7)"
     ]
    }
   ],
   "source": [
    "const SPENDING_THRESHOLD = 200;\n",
    "const TAX_RATE = 0.08;\n",
    "const PHONE_PRICE = 99.99;\n",
    "const ACCESSORY_PRICE = 9.99;\n",
    "\n",
    "var bank_balance = 303.91;\n",
    "var amount = 0;\n",
    "\n",
    "function calaculateTax(amount) {\n",
    "    return amount * TAX_RATE;\n",
    "}\n",
    "\n",
    "function formatAmount(amount) {\n",
    "    return \"$\" + amount.toFixed(2);\n",
    "}\n",
    "\n",
    "// keep buying phones while you still have money\n",
    "while (amount < bank_balance) {\n",
    "    // buy a new phone!\n",
    "    amount = amount + PHONE_PRICE;\n",
    "    \n",
    "    // can we afford the accessory?\n",
    "    if (amount < SPENDING_THRESHOLD) {\n",
    "        amount = amount + ACCESSORY_PRICE;\n",
    "    }\n",
    "}\n",
    "\n",
    "// don't forget to pay the goverment, too\n",
    "amount = amount + calculateTax(amount);\n",
    "\n",
    "console.log(\"Your purchase: \" + formatAmount(amount));\n",
    "// your purchase: 334.76\n",
    "\n",
    "// can you actually afford this purchase?\n",
    "if(amount > bank_balance){\n",
    "    console.log(\"You can't afford this purchase. :(\");\n",
    "}\n",
    "// you can't afford this purchase. :("
   ]
  },
  {
   "cell_type": "code",
   "execution_count": null,
   "metadata": {
    "collapsed": true
   },
   "outputs": [],
   "source": []
  }
 ],
 "metadata": {
  "anaconda-cloud": {},
  "kernelspec": {
   "display_name": "Javascript (Node.js)",
   "language": "javascript",
   "name": "javascript"
  },
  "language_info": {
   "file_extension": ".js",
   "mimetype": "application/javascript",
   "name": "javascript",
   "version": "6.10.3"
  }
 },
 "nbformat": 4,
 "nbformat_minor": 2
}
