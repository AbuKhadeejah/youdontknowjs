{
 "cells": [
  {
   "cell_type": "markdown",
   "metadata": {
    "collapsed": true
   },
   "source": [
    "# Code"
   ]
  },
  {
   "cell_type": "markdown",
   "metadata": {
    "collapsed": true
   },
   "source": [
    "in short, coding is the process of using a language to instruct a computer. it is used to develop apps, websites and software. without it, we would have none of the major technology we’ve come to rely on such as Facebook, our smartphones, the browser we choose to view our favorite blogs or even the blogs themselves."
   ]
  },
  {
   "cell_type": "code",
   "execution_count": 38,
   "metadata": {
    "collapsed": false
   },
   "outputs": [
    {
     "name": "stdout",
     "output_type": "stream",
     "text": [
      "Hello, World!\n"
     ]
    },
    {
     "data": {
      "text/plain": [
       "undefined"
      ]
     },
     "execution_count": 38,
     "metadata": {},
     "output_type": "execute_result"
    }
   ],
   "source": [
    "var msg = \"Hello, World!\"\n",
    "console.log(msg)"
   ]
  },
  {
   "cell_type": "markdown",
   "metadata": {
    "collapsed": true
   },
   "source": [
    "## Statements"
   ]
  },
  {
   "cell_type": "markdown",
   "metadata": {
    "collapsed": true
   },
   "source": [
    "javascript code, for the most part, can be comprised of many separate statements. a statement can set a variable equal to a value. a statement can also be a function call, like document.write(). statements define what the code will do and how it will be done."
   ]
  },
  {
   "cell_type": "code",
   "execution_count": 45,
   "metadata": {
    "collapsed": false
   },
   "outputs": [
    {
     "ename": "ReferenceError",
     "evalue": "display is not defined",
     "output_type": "error",
     "traceback": [
      "ReferenceError: display is not defined",
      "    at evalmachine.<anonymous>:1:1",
      "    at ContextifyScript.Script.runInThisContext (vm.js:25:33)",
      "    at Object.runInThisContext (vm.js:97:38)",
      "    at run ([eval]:617:19)",
      "    at onRunRequest ([eval]:388:22)",
      "    at onMessage ([eval]:356:17)",
      "    at emitTwo (events.js:106:13)",
      "    at process.emit (events.js:191:7)",
      "    at process.nextTick (internal/child_process.js:753:12)",
      "    at _combinedTickCallback (internal/process/next_tick.js:73:7)"
     ]
    }
   ],
   "source": [
    "display(Javascript('alert(\"hello world\")'))"
   ]
  },
  {
   "cell_type": "markdown",
   "metadata": {
    "collapsed": true
   },
   "source": [
    "javascript() creates a javascript display object. If you call it at the end of a cell, it is displayed automatically, like putting 2+2 at the end of a cell will display 4. if it's not the last thing in the cell, or it's inside a function, you need display(), equivalent to putting print(2+2)."
   ]
  },
  {
   "cell_type": "markdown",
   "metadata": {
    "collapsed": true
   },
   "source": [
    "## Expressions"
   ]
  },
  {
   "cell_type": "markdown",
   "metadata": {
    "collapsed": true
   },
   "source": [
    "an expression is any valid set of literals, variables, operators, and expressions that evaluates to a single value. the value may be a number, a string, or a logical value."
   ]
  },
  {
   "cell_type": "code",
   "execution_count": 19,
   "metadata": {
    "collapsed": false
   },
   "outputs": [
    {
     "data": {
      "text/plain": [
       "84"
      ]
     },
     "execution_count": 19,
     "metadata": {},
     "output_type": "execute_result"
    }
   ],
   "source": [
    "a = b * 2;"
   ]
  },
  {
   "cell_type": "markdown",
   "metadata": {
    "collapsed": true
   },
   "source": [
    "## Executing a Program"
   ]
  },
  {
   "cell_type": "markdown",
   "metadata": {
    "collapsed": true
   },
   "source": [
    "since javaScript is interpreted by the browser itself, we don’t need any fancy compilers or additional software to write js programs. all we need is:\n",
    "\n",
    "- a text editor.\n",
    "\n",
    "- a web browser. you can use anything you want – chrome, firefox, internet explorer or safari.\n",
    "\n"
   ]
  },
  {
   "cell_type": "code",
   "execution_count": 26,
   "metadata": {
    "collapsed": false
   },
   "outputs": [
    {
     "name": "stdout",
     "output_type": "stream",
     "text": [
      "42\n"
     ]
    },
    {
     "data": {
      "text/plain": [
       "undefined"
      ]
     },
     "execution_count": 26,
     "metadata": {},
     "output_type": "execute_result"
    }
   ],
   "source": [
    "a = 21;     \n",
    "b = a * 2;\n",
    "\n",
    "console.log(b)"
   ]
  },
  {
   "cell_type": "markdown",
   "metadata": {
    "collapsed": true
   },
   "source": [
    "## Output"
   ]
  },
  {
   "cell_type": "markdown",
   "metadata": {
    "collapsed": true
   },
   "source": [
    "console.log will display the parameter passed to the log method in the object reference 'console'. you can use this method to display a string or variable in the console window.\n",
    "\n",
    "alert is another way to do that..."
   ]
  },
  {
   "cell_type": "markdown",
   "metadata": {
    "collapsed": true
   },
   "source": [
    "## Input"
   ]
  },
  {
   "cell_type": "markdown",
   "metadata": {
    "collapsed": true
   },
   "source": [
    "a prompt dialog box is very useful when you want to pop-up a text box to get the user input.in short, it enables you to interact with the user."
   ]
  },
  {
   "cell_type": "code",
   "execution_count": 49,
   "metadata": {
    "collapsed": false
   },
   "outputs": [
    {
     "name": "stdout",
     "output_type": "stream",
     "text": [
      "Please tell me your age:\n"
     ]
    },
    {
     "data": {
      "text/plain": [
       "undefined"
      ]
     },
     "execution_count": 49,
     "metadata": {},
     "output_type": "execute_result"
    }
   ],
   "source": [
    "var age = \"Please tell me your age:\" \n",
    "console.log(age)"
   ]
  },
  {
   "cell_type": "markdown",
   "metadata": {
    "collapsed": true
   },
   "source": [
    "# Operators"
   ]
  },
  {
   "cell_type": "markdown",
   "metadata": {
    "collapsed": true
   },
   "source": [
    "javaScript has arithmetic, string, and logical operators and supports the following types of operators.\n",
    "\n",
    "- arithmetic Operators\n",
    "- comparision Operators\n",
    "- logical (or Relational) Operators\n",
    "- assignment Operators\n",
    "- conditional (or ternary) Operators\n",
    "\n",
    "an assignment operator assigns a value to its left operand based on the value of its right operand. the other operators are shorthand for standard arithmetic operations as follows:\n",
    "\n",
    "x += y means x = x + y\n",
    "x -= y means x = x - y\n",
    "x *= y means x = x * y\n",
    "x /= y means x = x / y\n",
    "x %= y means x = x % y\n",
    "\n",
    "there are additional assignment operators for bitwise operations:\n",
    "\n",
    "x <<= y means x = x << y\n",
    "x >>= y means x = x >> y\n",
    "x >>>= means x = x >>> y\n",
    "x &= means x = x & y\n",
    "x ^= means x = x ^ y\n",
    "x |= means x = x | y"
   ]
  },
  {
   "cell_type": "markdown",
   "metadata": {
    "collapsed": true
   },
   "source": [
    "# Values & Types"
   ]
  },
  {
   "cell_type": "markdown",
   "metadata": {
    "collapsed": true
   },
   "source": [
    "there are six basic types of values - numbers, strings, booleans, objects, functions, and undefined values."
   ]
  },
  {
   "cell_type": "code",
   "execution_count": 28,
   "metadata": {
    "collapsed": false
   },
   "outputs": [
    {
     "name": "stdout",
     "output_type": "stream",
     "text": [
      "42\n"
     ]
    },
    {
     "data": {
      "text/plain": [
       "undefined"
      ]
     },
     "execution_count": 28,
     "metadata": {},
     "output_type": "execute_result"
    }
   ],
   "source": [
    "var a = 20;  \n",
    "\n",
    "a = a + 1;\n",
    "a = a * 2;\n",
    "\n",
    "console.log(a)"
   ]
  },
  {
   "cell_type": "markdown",
   "metadata": {
    "collapsed": true
   },
   "source": [
    "##  Converting Between Types "
   ]
  },
  {
   "cell_type": "markdown",
   "metadata": {
    "collapsed": true
   },
   "source": [
    "to convert a value from string to integer we have to use the function or method \"parseInt(). Passing a correct argument to the function (e.g: \"4\") will return correct value else (e.g: \"sd\") 0 will be returned. integer (int) value can be converted to string by using the function or method toString().\n",
    "\n",
    "number here converts the string found in the variable a to a number"
   ]
  },
  {
   "cell_type": "code",
   "execution_count": 5,
   "metadata": {
    "collapsed": false
   },
   "outputs": [
    {
     "data": {
      "text/plain": [
       "42"
      ]
     },
     "execution_count": 5,
     "metadata": {},
     "output_type": "execute_result"
    }
   ],
   "source": [
    "var a = \"42\";\n",
    "var b = Number(a); \n",
    "\n",
    "console.log(a)\n",
    "console.log(b)"
   ]
  },
  {
   "cell_type": "markdown",
   "metadata": {
    "collapsed": true
   },
   "source": [
    "# Code Comments"
   ]
  },
  {
   "cell_type": "markdown",
   "metadata": {
    "collapsed": true
   },
   "source": [
    "if you want to create a single line comment in javaScript, you place two slashes \"//\" in front of the code or text you wish to have the interpreter to ignore. when you place these two slashes, all text to the right of them will be ignored, until the next line."
   ]
  },
  {
   "cell_type": "code",
   "execution_count": 30,
   "metadata": {
    "collapsed": false
   },
   "outputs": [
    {
     "name": "stdout",
     "output_type": "stream",
     "text": [
      "42\n"
     ]
    },
    {
     "data": {
      "text/plain": [
       "undefined"
      ]
     },
     "execution_count": 30,
     "metadata": {},
     "output_type": "execute_result"
    }
   ],
   "source": [
    "var a = 42;            //42 is the meaning of life\n",
    "\n",
    "/*  The following value is used because\n",
    "    it has been shown that it answers\n",
    "    every question in the universe. */\n",
    "\n",
    "var a = 42;\n",
    "\n",
    "console.log(a)"
   ]
  },
  {
   "cell_type": "markdown",
   "metadata": {
    "collapsed": true
   },
   "source": [
    "# Variables"
   ]
  },
  {
   "cell_type": "markdown",
   "metadata": {
    "collapsed": true
   },
   "source": [
    "like many other programming languages, javaScript has variables. you can think of variables as kind of a container. you can place value/data into these containers and then refer to the value/data simply by naming the container."
   ]
  },
  {
   "cell_type": "code",
   "execution_count": 6,
   "metadata": {
    "collapsed": false
   },
   "outputs": [
    {
     "name": "stdout",
     "output_type": "stream",
     "text": [
      "199.98\n"
     ]
    },
    {
     "data": {
      "text/plain": [
       "'$199.98'"
      ]
     },
     "execution_count": 6,
     "metadata": {},
     "output_type": "execute_result"
    }
   ],
   "source": [
    "var amount = 99.99;\n",
    "\n",
    "amount = amount * 2;     \n",
    "console.log(amount);  //199.98    \n",
    "\n",
    "//convert amount to a string, and\n",
    "// add \"$\" on the beginning\n",
    "amount = \"$\" + String(amount);\n",
    "\n",
    "console.log(amount)     //\"$199.98\""
   ]
  },
  {
   "cell_type": "code",
   "execution_count": 31,
   "metadata": {
    "collapsed": false
   },
   "outputs": [
    {
     "name": "stdout",
     "output_type": "stream",
     "text": [
      "453.5352\n",
      "453.54\n"
     ]
    },
    {
     "data": {
      "text/plain": [
       "undefined"
      ]
     },
     "execution_count": 31,
     "metadata": {},
     "output_type": "execute_result"
    }
   ],
   "source": [
    "var TAX_RATE = 0.08;  //8% sales tax\n",
    "\n",
    "amount = amount * 2;\n",
    "\n",
    "amount = amount + (amount * TAX_RATE);\n",
    "\n",
    "console.log( amount )                 // 215.9784\n",
    "console.log( amount.toFixed(2))   // \"215.98\""
   ]
  },
  {
   "cell_type": "markdown",
   "metadata": {
    "collapsed": true
   },
   "source": [
    "in javaScript, a constants is kind of variable declared with const keyword and is assigned at the time of the declaration that variable. A constant can be global or local like any other variable to a function where it is declared."
   ]
  },
  {
   "cell_type": "code",
   "execution_count": 12,
   "metadata": {
    "collapsed": false
   },
   "outputs": [
    {
     "name": "stdout",
     "output_type": "stream",
     "text": [
      "99.99\n",
      "0.08\n"
     ]
    },
    {
     "data": {
      "text/plain": [
       "undefined"
      ]
     },
     "execution_count": 12,
     "metadata": {},
     "output_type": "execute_result"
    }
   ],
   "source": [
    "// as of ES6\n",
    "var TAX_RATE = 0.08;  // 8% sales tax - this is constant'const'...only works on ES6\n",
    "\n",
    "var amount = 99.99;\n",
    "\n",
    "// ..\n",
    "\n",
    "console.log(amount);\n",
    "console.log(TAX_RATE);"
   ]
  },
  {
   "cell_type": "markdown",
   "metadata": {
    "collapsed": true
   },
   "source": [
    "# Blocks"
   ]
  },
  {
   "cell_type": "markdown",
   "metadata": {
    "collapsed": true
   },
   "source": [
    "in regards to a block, it is a chunk of code found inside a function. blocks have well-defined entry and exit points. blocks have their own local variables and functions, and they also have access to variables and functions defined around them. "
   ]
  },
  {
   "cell_type": "code",
   "execution_count": 34,
   "metadata": {
    "collapsed": false
   },
   "outputs": [
    {
     "name": "stdout",
     "output_type": "stream",
     "text": [
      "199.98\n"
     ]
    },
    {
     "data": {
      "text/plain": [
       "undefined"
      ]
     },
     "execution_count": 34,
     "metadata": {},
     "output_type": "execute_result"
    }
   ],
   "source": [
    "var amount = 99.99;\n",
    "\n",
    "// a general block  -- not a standard one\n",
    "{\n",
    "    amount = amount * 2;\n",
    "    console.log(amount)  // 199.98\n",
    "}"
   ]
  },
  {
   "cell_type": "markdown",
   "metadata": {
    "collapsed": true
   },
   "source": [
    "block can be attached to 'if'statements or loops\n",
    "\n",
    "semicolon is in this case not needed to complete the statement"
   ]
  },
  {
   "cell_type": "code",
   "execution_count": 9,
   "metadata": {
    "collapsed": false
   },
   "outputs": [
    {
     "data": {
      "text/plain": [
       "199.98"
      ]
     },
     "execution_count": 9,
     "metadata": {},
     "output_type": "execute_result"
    }
   ],
   "source": [
    "var amount = 99.99;\n",
    "\n",
    "// is amount big enough?\n",
    "if (amount > 10) {                    \n",
    "    amount = amount * 2;\n",
    "    console.log(amount) // 199.98\n",
    "} "
   ]
  },
  {
   "cell_type": "markdown",
   "metadata": {
    "collapsed": true
   },
   "source": [
    "if statement is similar to a yes or no question..."
   ]
  },
  {
   "cell_type": "code",
   "execution_count": 51,
   "metadata": {
    "collapsed": false
   },
   "outputs": [
    {
     "name": "stdout",
     "output_type": "stream",
     "text": [
      "I want to buy this phone!\n"
     ]
    },
    {
     "data": {
      "text/plain": [
       "undefined"
      ]
     },
     "execution_count": 51,
     "metadata": {},
     "output_type": "execute_result"
    }
   ],
   "source": [
    "var bank_balance = 302.13;\n",
    "var amount = 99.99;\n",
    "\n",
    "\n",
    "if (amount < bank_balance) {\n",
    "    console.log(\"I want to buy this phone!\");\n",
    "}"
   ]
  },
  {
   "cell_type": "markdown",
   "metadata": {
    "collapsed": true
   },
   "source": [
    "# Conditionals"
   ]
  },
  {
   "cell_type": "markdown",
   "metadata": {
    "collapsed": true
   },
   "source": [
    "a conditional controls the behavior of a function in javaScript and determine whether or not the pieces of code can be run."
   ]
  },
  {
   "cell_type": "code",
   "execution_count": 12,
   "metadata": {
    "collapsed": false
   },
   "outputs": [
    {
     "data": {
      "text/plain": [
       "209.97"
      ]
     },
     "execution_count": 12,
     "metadata": {},
     "output_type": "execute_result"
    }
   ],
   "source": [
    "const ACCESSORY_PRICE = 9.99;\n",
    "\n",
    "var bank_balance = 302.13\n",
    "var amount = 99.99\n",
    "\n",
    "amount = amount * 2;\n",
    "\n",
    "// can we afford the extra purchase?\n",
    "if ( amount < bank_balance ) {\n",
    "    amount = amount + ACCESSORY_PRICE;\n",
    "}\n",
    "\n",
    "// otherwise:    this statement will only considered when the if statement is not true\n",
    "else{\n",
    "    console.log(\"No, thanks.\");\n",
    "}"
   ]
  },
  {
   "cell_type": "markdown",
   "metadata": {
    "collapsed": true
   },
   "source": [
    "# Loops"
   ]
  },
  {
   "cell_type": "markdown",
   "metadata": {
    "collapsed": true
   },
   "source": [
    "during the process of writing a program, you may encounter a situation where you need to perform an action over and over again. In such situations, you would need to write loop statements to reduce the number of lines and time consumption."
   ]
  },
  {
   "cell_type": "markdown",
   "metadata": {
    "collapsed": true
   },
   "source": [
    "loops are used if you have to do something more than one time..like going on a \n",
    "roller coaster"
   ]
  },
  {
   "cell_type": "markdown",
   "metadata": {
    "collapsed": true
   },
   "source": [
    "different could be summerized as in the while -- while there are customers, serve them\n",
    "\n",
    "the do is more, serve the customers when you have customers.."
   ]
  },
  {
   "cell_type": "code",
   "execution_count": 11,
   "metadata": {
    "collapsed": false
   },
   "outputs": [
    {
     "name": "stdout",
     "output_type": "stream",
     "text": [
      "How may I help you?\n"
     ]
    },
    {
     "data": {
      "text/plain": [
       "-1"
      ]
     },
     "execution_count": 11,
     "metadata": {},
     "output_type": "execute_result"
    }
   ],
   "source": [
    "numOfCustomers = 0;\n",
    "\n",
    "while (numOfCustomers > 0) {      \n",
    "    console.log(\"How may I help you?\"); \n",
    "    \n",
    "    // help the customer...\n",
    "    \n",
    "    numOfCustomers = numOfCustomers + 1;\n",
    "}\n",
    "// versus:\n",
    "\n",
    "do {\n",
    "    console.log(\"How may I help you?\");\n",
    "    \n",
    "    // help the customer\n",
    "    \n",
    "    numOfCustomers= numOfCustomers - 1;\n",
    "} while (numOfCustomers > 0);"
   ]
  },
  {
   "cell_type": "markdown",
   "metadata": {
    "collapsed": true
   },
   "source": [
    "when the condition set in the if statement break point this program stops"
   ]
  },
  {
   "cell_type": "code",
   "execution_count": 53,
   "metadata": {
    "collapsed": false,
    "scrolled": true
   },
   "outputs": [
    {
     "name": "stdout",
     "output_type": "stream",
     "text": [
      "0\n",
      "1\n",
      "2\n",
      "3\n",
      "4\n",
      "5\n",
      "6\n",
      "7\n",
      "8\n",
      "9\n"
     ]
    },
    {
     "data": {
      "text/plain": [
       "undefined"
      ]
     },
     "execution_count": 53,
     "metadata": {},
     "output_type": "execute_result"
    }
   ],
   "source": [
    "var i = 0;\n",
    "\n",
    "// a while... true loop would run forever, right?\n",
    "\n",
    "while(true) {\n",
    "    // stop the loop?\n",
    "    if ((i <= 9) === false) {\n",
    "        break;\n",
    "    }\n",
    "    console.log(i);\n",
    "    i = i + 1;\n",
    "}\n",
    "// 0 1 2 3 4 5 6 7 8 9\n"
   ]
  },
  {
   "cell_type": "code",
   "execution_count": 54,
   "metadata": {
    "collapsed": false
   },
   "outputs": [
    {
     "name": "stdout",
     "output_type": "stream",
     "text": [
      "0\n",
      "1\n",
      "2\n",
      "3\n",
      "4\n",
      "5\n",
      "6\n",
      "7\n",
      "8\n",
      "9\n"
     ]
    },
    {
     "data": {
      "text/plain": [
       "undefined"
      ]
     },
     "execution_count": 54,
     "metadata": {},
     "output_type": "execute_result"
    }
   ],
   "source": [
    "for (var i = 0; i <= 9; i = i + 1){\n",
    "    console.log(i);\n",
    "}\n",
    "// 0 1 2 3 4 5 6 7 8 9"
   ]
  },
  {
   "cell_type": "markdown",
   "metadata": {
    "collapsed": true
   },
   "source": [
    "# Functions"
   ]
  },
  {
   "cell_type": "markdown",
   "metadata": {
    "collapsed": true
   },
   "source": [
    "in javascript a function is a block of code made to do a particular task. a function is executed when \"something\" invokes it (calls it). it is defined with the function keyword, followed by a name, followed by parentheses ()."
   ]
  },
  {
   "cell_type": "code",
   "execution_count": 17,
   "metadata": {
    "collapsed": false
   },
   "outputs": [
    {
     "name": "stdout",
     "output_type": "stream",
     "text": [
      "99.99\n",
      "199.98\n"
     ]
    },
    {
     "data": {
      "text/plain": [
       "undefined"
      ]
     },
     "execution_count": 17,
     "metadata": {},
     "output_type": "execute_result"
    }
   ],
   "source": [
    "function printAmount() {\n",
    "    console.log(amount.toFixed(2));\n",
    "}\n",
    "\n",
    "var amount = 99.99;\n",
    "\n",
    "printAmount();   // \"99.99\"\n",
    "\n",
    "amount = amount * 2;\n",
    "\n",
    "printAmount();  // \"199.98\""
   ]
  },
  {
   "cell_type": "code",
   "execution_count": 6,
   "metadata": {
    "collapsed": false
   },
   "outputs": [
    {
     "name": "stdout",
     "output_type": "stream",
     "text": [
      "$99.99\n"
     ]
    },
    {
     "data": {
      "text/plain": [
       "undefined"
      ]
     },
     "execution_count": 6,
     "metadata": {},
     "output_type": "execute_result"
    }
   ],
   "source": [
    "function printAmount() {\n",
    "    console.log(amt.toFixed(2));\n",
    "}\n",
    "\n",
    "function formatAmount() {\n",
    "    return \"$\" + amount.toFixed(2);\n",
    "}\n",
    "\n",
    "var amount = 99.99;\n",
    "\n",
    "printAmount = (amount * 2);     // \"199.98\"\n",
    "\n",
    "amount = formatAmount();\n",
    "console.log(amount)       // \"99.99\""
   ]
  },
  {
   "cell_type": "code",
   "execution_count": 15,
   "metadata": {
    "collapsed": false
   },
   "outputs": [
    {
     "ename": "TypeError",
     "evalue": "Identifier 'TAX_Rate' has already been declared",
     "output_type": "error",
     "traceback": [
      "TypeError: Identifier 'TAX_Rate' has already been declared",
      "    at evalmachine.<anonymous>:1:1",
      "    at ContextifyScript.Script.runInThisContext (vm.js:25:33)",
      "    at Object.runInThisContext (vm.js:97:38)",
      "    at run ([eval]:617:19)",
      "    at onRunRequest ([eval]:388:22)",
      "    at onMessage ([eval]:356:17)",
      "    at emitTwo (events.js:106:13)",
      "    at process.emit (events.js:191:7)",
      "    at process.nextTick (internal/child_process.js:753:12)",
      "    at _combinedTickCallback (internal/process/next_tick.js:73:7)"
     ]
    }
   ],
   "source": [
    "var TAX_Rate = 0.08; // this is a constant\n",
    "\n",
    "function calculateFinalPurchaseAmount(amt) {\n",
    "    // calculate the new amount with the tax\n",
    "    amt = amt + (amt * TAX_RATE);\n",
    "    \n",
    "    // return the new amount\n",
    "    return amt;\n",
    "}\n",
    "\n",
    "var amount = 99.99\n",
    "\n",
    "var amount = calculateFinalPurchaseAmount(amount)/**/;\n",
    "\n",
    "console.log(amount.toFixed(2));    // \"107.99\""
   ]
  },
  {
   "cell_type": "markdown",
   "metadata": {
    "collapsed": true
   },
   "source": [
    "## Scope"
   ]
  },
  {
   "cell_type": "markdown",
   "metadata": {
    "collapsed": true
   },
   "source": [
    "a variable can be defined in either local or global scope, which establishes the variables’ accessibility from different scopes during runtime. any defined global variable, meaning any variable declared outside of a function can be accessed and altered in any scope. a local variables exist  within the function body of which they are defined only and will have a different scope for every call of that function. "
   ]
  },
  {
   "cell_type": "code",
   "execution_count": 20,
   "metadata": {
    "collapsed": false
   },
   "outputs": [
    {
     "name": "stdout",
     "output_type": "stream",
     "text": [
      "1\n",
      "2\n"
     ]
    },
    {
     "data": {
      "text/plain": [
       "undefined"
      ]
     },
     "execution_count": 20,
     "metadata": {},
     "output_type": "execute_result"
    }
   ],
   "source": [
    "function one(){\n",
    "    // this a only belongs to the one() function\n",
    "    var a = 1;\n",
    "    console.log(a);\n",
    "}\n",
    "\n",
    "function two() {\n",
    "    // this a only belongsto the two() function\n",
    "    var a = 2;\n",
    "    console.log(a);\n",
    "}\n",
    "\n",
    "one();       // 1\n",
    "two();      // 2"
   ]
  },
  {
   "cell_type": "code",
   "execution_count": 58,
   "metadata": {
    "collapsed": false
   },
   "outputs": [
    {
     "name": "stdout",
     "output_type": "stream",
     "text": [
      "3\n",
      "1\n"
     ]
    },
    {
     "data": {
      "text/plain": [
       "undefined"
      ]
     },
     "execution_count": 58,
     "metadata": {},
     "output_type": "execute_result"
    }
   ],
   "source": [
    "\n",
    "function outer() {\n",
    "    var a = 1;\n",
    "     function inner() {\n",
    "         var b = 2;\n",
    "         \n",
    "         //we can access both a and b here\n",
    "         console.log(a + b);  // 3\n",
    "     }\n",
    "    inner();\n",
    "    \n",
    "    // we can only access a here\n",
    "    console.log (a);    // 1\n",
    "}\n",
    "\n",
    "outer();"
   ]
  },
  {
   "cell_type": "code",
   "execution_count": 20,
   "metadata": {
    "collapsed": false
   },
   "outputs": [
    {
     "name": "stdout",
     "output_type": "stream",
     "text": [
      "[Function: calculateFinalPurchaseAmount]\n"
     ]
    },
    {
     "data": {
      "text/plain": [
       "undefined"
      ]
     },
     "execution_count": 20,
     "metadata": {},
     "output_type": "execute_result"
    }
   ],
   "source": [
    "var TAX_RATE = 0.08;   // this is a constant\n",
    "\n",
    "function calculateFinalPurchaseAmount(amt) {\n",
    "    // calculate the new amount with the tax\n",
    "    \n",
    "    amt = amt + (amt * TAX_RATE);\n",
    "    \n",
    "    // return the new amount\n",
    "    return (amt);\n",
    "};\n",
    "\n",
    "console.log(calculateFinalPurchaseAmount);"
   ]
  },
  {
   "cell_type": "markdown",
   "metadata": {
    "collapsed": true
   },
   "source": [
    "# Practice"
   ]
  },
  {
   "cell_type": "markdown",
   "metadata": {
    "collapsed": true
   },
   "source": [
    "const is only found in ES6 so i am using var here as i have not installt babel.js yet."
   ]
  },
  {
   "cell_type": "code",
   "execution_count": 22,
   "metadata": {
    "collapsed": false
   },
   "outputs": [
    {
     "ename": "ReferenceError",
     "evalue": "calculateTax is not defined",
     "output_type": "error",
     "traceback": [
      "ReferenceError: calculateTax is not defined",
      "    at evalmachine.<anonymous>:29:19",
      "    at ContextifyScript.Script.runInThisContext (vm.js:25:33)",
      "    at Object.runInThisContext (vm.js:97:38)",
      "    at run ([eval]:617:19)",
      "    at onRunRequest ([eval]:388:22)",
      "    at onMessage ([eval]:356:17)",
      "    at emitTwo (events.js:106:13)",
      "    at process.emit (events.js:191:7)",
      "    at process.nextTick (internal/child_process.js:753:12)",
      "    at _combinedTickCallback (internal/process/next_tick.js:73:7)"
     ]
    }
   ],
   "source": [
    "var SPENDING_THRESHOLD = 200;\n",
    "var TAX_RATE = 0.08;\n",
    "var PHONE_PRICE = 99.99;\n",
    "var ACCESSORY_PRICE = 9.99;\n",
    "\n",
    "var bank_balance = 303.91;\n",
    "var amount = 0;\n",
    "\n",
    "function calaculateTax(amount) {\n",
    "    return amount * TAX_RATE;\n",
    "}\n",
    "\n",
    "function formatAmount(amount) {\n",
    "    return \"$\" + amount.toFixed(2);\n",
    "}\n",
    "\n",
    "// keep buying phones while you still have money\n",
    "while (amount < bank_balance) {\n",
    "    // buy a new phone!\n",
    "    amount = amount + PHONE_PRICE;\n",
    "    \n",
    "    // can we afford the accessory?\n",
    "    if (amount < SPENDING_THRESHOLD) {\n",
    "        amount = amount + ACCESSORY_PRICE;\n",
    "    }\n",
    "}\n",
    "\n",
    "// don't forget to pay the goverment, too\n",
    "amount = amount + calculateTax(amount);\n",
    "\n",
    "console.log(\"Your purchase: \" + formatAmount(amount));\n",
    "// your purchase: 334.76\n",
    "\n",
    "// can you actually afford this purchase?\n",
    "if(amount > bank_balance){\n",
    "    console.log(\"You can't afford this purchase. :(\");\n",
    "}\n",
    "// you can't afford this purchase. :(\n",
    "\n",
    "console.log(calaculateTax);\n",
    "console.log(formatAmount);"
   ]
  }
 ],
 "metadata": {
  "anaconda-cloud": {},
  "kernelspec": {
   "display_name": "Javascript (Node.js)",
   "language": "javascript",
   "name": "javascript"
  },
  "language_info": {
   "file_extension": ".js",
   "mimetype": "application/javascript",
   "name": "javascript",
   "version": "6.10.3"
  }
 },
 "nbformat": 4,
 "nbformat_minor": 2
}
